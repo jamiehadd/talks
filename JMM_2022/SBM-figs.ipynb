{
 "cells": [
  {
   "cell_type": "code",
   "execution_count": 1,
   "metadata": {},
   "outputs": [],
   "source": [
    "import numpy as np\n",
    "from matplotlib import pyplot as plt"
   ]
  },
  {
   "cell_type": "code",
   "execution_count": 17,
   "metadata": {},
   "outputs": [],
   "source": [
    "n = 200\n",
    "\n",
    "p = 0.1\n",
    "q = 0.02"
   ]
  },
  {
   "cell_type": "code",
   "execution_count": 68,
   "metadata": {},
   "outputs": [],
   "source": [
    "P = np.ones((n, n))*q\n",
    "\n",
    "P[0:n//2, 0:n//2] = p\n",
    "P[(n//2+1):, (n//2+1):] = p\n",
    "\n",
    "A = 1.0*np.random.rand(n, n) < P\n",
    "A = A + A.T\n",
    "A = A >= 1.0\n"
   ]
  },
  {
   "cell_type": "code",
   "execution_count": 69,
   "metadata": {},
   "outputs": [
    {
     "data": {
      "text/plain": [
       "array([[False, False, False, ..., False, False, False],\n",
       "       [False, False, False, ..., False, False, False],\n",
       "       [False, False, False, ..., False, False, False],\n",
       "       ...,\n",
       "       [False, False, False, ...,  True, False, False],\n",
       "       [False, False, False, ..., False, False, False],\n",
       "       [False, False, False, ..., False, False, False]])"
      ]
     },
     "execution_count": 69,
     "metadata": {},
     "output_type": "execute_result"
    }
   ],
   "source": [
    "A"
   ]
  },
  {
   "cell_type": "code",
   "execution_count": 70,
   "metadata": {},
   "outputs": [
    {
     "data": {
      "image/png": "[encoded data removed]",
      "text/plain": [
       "<Figure size 144x288 with 2 Axes>"
      ]
     },
     "metadata": {
      "needs_background": "light"
     },
     "output_type": "display_data"
    }
   ],
   "source": [
    "fig, ax = plt.subplots(2, 1, figsize = (2, 4))\n",
    "\n",
    "ax[0].imshow(P, interpolation = \"none\", cmap = \"binary\", vmin = 0, vmax = 1)\n",
    "ax[0].axis(\"off\")\n",
    "\n",
    "ax[1].imshow(A, interpolation = \"none\", cmap = \"binary\", vmin = 0, vmax = 1)\n",
    "ax[1].axis(\"off\")\n",
    "\n",
    "ax[0].text(-50, 105, r\"$\\mathbf{P} = $\")\n",
    "ax[0].text(45, 50, r\"$p$\")\n",
    "ax[0].text(145, 150, r\"$p$\")\n",
    "ax[0].text(145, 50, r\"$q$\")\n",
    "ax[0].text(45, 150, r\"$q$\")\n",
    "\n",
    "ax[1].text(-50, 105, r\"$\\mathbf{A} = $\")\n",
    "\n",
    "\n",
    "plt.savefig(\"img/sbm-matrix.png\", dpi = 600)"
   ]
  },
  {
   "cell_type": "code",
   "execution_count": 71,
   "metadata": {},
   "outputs": [],
   "source": [
    "eigs = np.linalg.eig(A)\n",
    "\n"
   ]
  },
  {
   "cell_type": "code",
   "execution_count": 120,
   "metadata": {},
   "outputs": [
    {
     "data": {
      "image/png": "[encoded data removed]",
      "text/plain": [
       "<Figure size 144x288 with 2 Axes>"
      ]
     },
     "metadata": {
      "needs_background": "light"
     },
     "output_type": "display_data"
    }
   ],
   "source": [
    "fig, ax = plt.subplots(2, 1, figsize = (2, 4))\n",
    "\n",
    "z = np.zeros(n) - 1\n",
    "z[0:n//2] = 1\n",
    "\n",
    "\n",
    "ax[0].imshow(A, interpolation = \"none\", cmap = \"binary\", vmin = 0, vmax = 1)\n",
    "ax[0].axis(\"off\")\n",
    "ax[0].text(-50, 105, r\"$\\mathbf{A} = $\")\n",
    "ax[1].plot(range(n), np.zeros(n), color = \"black\", linewidth = 1)\n",
    "ax[1].scatter(range(n), eigs[1][:,1], s = .5, c = z, cmap = \"BrBG\", vmin = -2, vmax = 2)\n",
    "ax[1].axis(\"off\")\n",
    "\n",
    "ax[1].text(-50, -0.01, r\"$\\mathbf{v}_2 = $\")\n",
    "\n",
    "plt.tight_layout()\n",
    "plt.savefig(\"img/sbm-clustering.png\", dpi = 600)"
   ]
  },
  {
   "cell_type": "code",
   "execution_count": null,
   "metadata": {},
   "outputs": [],
   "source": []
  },
  {
   "cell_type": "code",
   "execution_count": null,
   "metadata": {},
   "outputs": [],
   "source": []
  }
 ],
 "metadata": {
  "kernelspec": {
   "display_name": "Python 3",
   "language": "python",
   "name": "python3"
  },
  "language_info": {
   "codemirror_mode": {
    "name": "ipython",
    "version": 3
   },
   "file_extension": ".py",
   "mimetype": "text/x-python",
   "name": "python",
   "nbconvert_exporter": "python",
   "pygments_lexer": "ipython3",
   "version": "3.7.1"
  }
 },
 "nbformat": 4,
 "nbformat_minor": 4
}
